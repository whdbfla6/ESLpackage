{
 "cells": [
  {
   "cell_type": "code",
   "execution_count": 1,
   "metadata": {},
   "outputs": [],
   "source": [
    "import pandas as pd\n",
    "import numpy as np\n",
    "from sklearn.datasets import load_breast_cancer\n",
    "X, y = load_breast_cancer(return_X_y=True)\n",
    "\n",
    "from sklearn.model_selection import train_test_split\n",
    "\n",
    "X_train, X_test, y_train, y_test = train_test_split(X, y, test_size=0.3, random_state=0)"
   ]
  },
  {
   "cell_type": "code",
   "execution_count": 2,
   "metadata": {},
   "outputs": [],
   "source": [
    "class perceptronAlgorithm(): \n",
    "    def __init__(self,max_iter=100,r=1):\n",
    "        self.max_iter = max_iter\n",
    "        self.r = r\n",
    "    def fit(self,x,y):\n",
    "        n,p = x.shape\n",
    "        self.b0 = np.array([0])\n",
    "        self.b = np.array([0]*p)\n",
    "        y = [1 if dat==1 else -1 for dat in y]\n",
    "        iteration = 0\n",
    "        while iteration < self.max_iter:\n",
    "            yc = [1 if self.b0+np.dot(dat,self.b)>0 else -1 for dat in x]\n",
    "            for i in range(n):\n",
    "                if y[i] != yc[i]:\n",
    "                    self.b0 = self.b0 + self.r*y[i]\n",
    "                    self.b = self.b + self.r*x[i]*y[i]\n",
    "            iteration +=1\n",
    "    def predict(self,x):\n",
    "        pred = [1 if self.b0+np.dot(dat,self.b)>0 else 0 for dat in x]\n",
    "        return pred"
   ]
  },
  {
   "cell_type": "code",
   "execution_count": 3,
   "metadata": {},
   "outputs": [],
   "source": [
    "pc = perceptronAlgorithm(max_iter=10000,r=1)"
   ]
  },
  {
   "cell_type": "code",
   "execution_count": 4,
   "metadata": {},
   "outputs": [],
   "source": [
    "pc.fit(X_train,y_train)"
   ]
  },
  {
   "cell_type": "code",
   "execution_count": 5,
   "metadata": {},
   "outputs": [],
   "source": [
    "pred = pc.predict(X_test)"
   ]
  },
  {
   "cell_type": "code",
   "execution_count": 6,
   "metadata": {},
   "outputs": [
    {
     "data": {
      "text/plain": [
       "0.08771929824561409"
      ]
     },
     "execution_count": 6,
     "metadata": {},
     "output_type": "execute_result"
    }
   ],
   "source": [
    "from sklearn.metrics import zero_one_loss\n",
    "zero_one_loss(pred, y_test)"
   ]
  }
 ],
 "metadata": {
  "kernelspec": {
   "display_name": "Python 3",
   "language": "python",
   "name": "python3"
  },
  "language_info": {
   "codemirror_mode": {
    "name": "ipython",
    "version": 3
   },
   "file_extension": ".py",
   "mimetype": "text/x-python",
   "name": "python",
   "nbconvert_exporter": "python",
   "pygments_lexer": "ipython3",
   "version": "3.8.3"
  }
 },
 "nbformat": 4,
 "nbformat_minor": 4
}
