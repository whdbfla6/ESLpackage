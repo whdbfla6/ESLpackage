{
 "cells": [
  {
   "cell_type": "code",
   "execution_count": 1,
   "metadata": {},
   "outputs": [],
   "source": [
    "import pandas as pd\n",
    "import numpy as np\n",
    "from numpy import transpose as t\n",
    "from numpy.linalg import inv\n",
    "import math\n",
    "import matplotlib.pyplot as plt\n",
    "from sklearn.metrics import mean_squared_error\n",
    "from numpy.random import randn"
   ]
  },
  {
   "cell_type": "code",
   "execution_count": 2,
   "metadata": {},
   "outputs": [],
   "source": [
    "class NaturalCubicSpline:\n",
    "    \n",
    "    def __init__(self,knot):\n",
    "        self.knot = knot\n",
    "        \n",
    "    def relu(self,x):\n",
    "        if type(x) == int:\n",
    "            if x>0:\n",
    "                return x\n",
    "            else:\n",
    "                return 0\n",
    "        else: return np.array([i if i>0 else 0 for i in x])\n",
    "    \n",
    "    def D(self,X,k,K):\n",
    "        d_k = (NaturalCubicSpline.relu(self,(X-self.knot_list[k-1])**3)-NaturalCubicSpline.relu(self,(X-self.knot_list[K-1])**3))/(self.knot_list[K-1]-self.knot_list[k-1])\n",
    "        d_K = (NaturalCubicSpline.relu(self,(X-self.knot_list[K-2])**3)-NaturalCubicSpline.relu(self,(X-self.knot_list[K-1])**3))/(self.knot_list[K-1]-self.knot_list[K-2])\n",
    "        return d_k - d_K\n",
    "    \n",
    "    def fit(self,x):\n",
    "        n = x.shape[0]\n",
    "        self.knot_list = [math.ceil(x.min()+(x.max()-x.min())/(self.knot+1)*i) for i in range(1,self.knot+1)]\n",
    "        design_M = [np.ones(n)]\n",
    "        design_M.append(np.array(x))\n",
    "        if self.knot >= 3:\n",
    "            for k in range(1,self.knot-1):\n",
    "                design_M.append(NaturalCubicSpline.D(self,x,k,self.knot))\n",
    "        self.basis = design_M\n",
    "        self.design_M =  t(design_M)\n",
    "    \n",
    "    def predict(self,x,y):\n",
    "        self.prediction = self.design_M@inv(t(self.design_M)@self.design_M)@t(self.design_M)@y\n",
    "        self.coef = inv(t(self.design_M)@self.design_M)@t(self.design_M)@y\n",
    "        return self.prediction\n",
    "    \n",
    "    def get_function(self,x):\n",
    "        f = self.coef[0] + self.coef[1]*x\n",
    "        if self.knot >=3:\n",
    "            for k in range(1,self.knot-1):\n",
    "                f += self.coef[k+1]*NaturalCubicSpline.D(self,x,k,self.knot)\n",
    "        return f\n",
    "    \n",
    "    def draw_plot(self,x,y):\n",
    "        x1 = np.linspace(min(x),max(x))\n",
    "        plt.scatter(x,y)\n",
    "        plt.plot(x1,NaturalCubicSpline.get_function(self,x1))\n",
    "        for i in self.knot_list:\n",
    "            plt.axvline(i,color='gray', linestyle='--', linewidth='1')"
   ]
  },
  {
   "cell_type": "markdown",
   "metadata": {},
   "source": [
    "Example"
   ]
  },
  {
   "cell_type": "code",
   "execution_count": 3,
   "metadata": {},
   "outputs": [],
   "source": [
    "data = pd.read_csv(\"data/height-weight.csv\")\n",
    "data.head()\n",
    "x = data['Weight']\n",
    "y = data['Height']"
   ]
  },
  {
   "cell_type": "code",
   "execution_count": 4,
   "metadata": {},
   "outputs": [],
   "source": [
    "Nc = NaturalCubicSpline(5)"
   ]
  },
  {
   "cell_type": "code",
   "execution_count": 5,
   "metadata": {},
   "outputs": [],
   "source": [
    "Nc.fit(x)"
   ]
  },
  {
   "cell_type": "code",
   "execution_count": 6,
   "metadata": {},
   "outputs": [],
   "source": [
    "pred = Nc.predict(x,y)"
   ]
  },
  {
   "cell_type": "code",
   "execution_count": 7,
   "metadata": {},
   "outputs": [
    {
     "data": {
      "text/plain": [
       "array([1.47517883, 1.49333174, 1.52046136, 1.54759099, 1.57464933,\n",
       "       1.60134952, 1.62667555, 1.65035744, 1.67995923, 1.70111813,\n",
       "       1.72820729, 1.75334008, 1.77590146, 1.80261521, 1.82926384])"
      ]
     },
     "execution_count": 7,
     "metadata": {},
     "output_type": "execute_result"
    }
   ],
   "source": [
    "pred"
   ]
  },
  {
   "cell_type": "code",
   "execution_count": 8,
   "metadata": {},
   "outputs": [
    {
     "data": {
      "text/plain": [
       "0.4735770276713327"
      ]
     },
     "execution_count": 8,
     "metadata": {},
     "output_type": "execute_result"
    }
   ],
   "source": [
    "Nc.get_function(2)"
   ]
  },
  {
   "cell_type": "code",
   "execution_count": 9,
   "metadata": {},
   "outputs": [
    {
     "data": {
      "image/png": "[encoded data removed]",
      "text/plain": [
       "<Figure size 432x288 with 1 Axes>"
      ]
     },
     "metadata": {
      "needs_background": "light"
     },
     "output_type": "display_data"
    }
   ],
   "source": [
    "Nc.draw_plot(x,y)"
   ]
  },
  {
   "cell_type": "markdown",
   "metadata": {},
   "source": [
    "Example 2"
   ]
  },
  {
   "cell_type": "code",
   "execution_count": 10,
   "metadata": {},
   "outputs": [],
   "source": [
    "df = pd.read_csv('data/toluca_company_dataset.csv')"
   ]
  },
  {
   "cell_type": "code",
   "execution_count": 11,
   "metadata": {},
   "outputs": [],
   "source": [
    "x=df['Lot_size']\n",
    "y=df['Work_hours']"
   ]
  },
  {
   "cell_type": "code",
   "execution_count": 12,
   "metadata": {},
   "outputs": [],
   "source": [
    "Nc = NaturalCubicSpline(4)"
   ]
  },
  {
   "cell_type": "code",
   "execution_count": 13,
   "metadata": {},
   "outputs": [],
   "source": [
    "Nc.fit(x)"
   ]
  },
  {
   "cell_type": "code",
   "execution_count": 14,
   "metadata": {},
   "outputs": [],
   "source": [
    "pred = Nc.predict(x,y)"
   ]
  },
  {
   "cell_type": "code",
   "execution_count": 15,
   "metadata": {},
   "outputs": [
    {
     "data": {
      "image/png": "[encoded data removed]",
      "text/plain": [
       "<Figure size 432x288 with 1 Axes>"
      ]
     },
     "metadata": {
      "needs_background": "light"
     },
     "output_type": "display_data"
    }
   ],
   "source": [
    "Nc.draw_plot(x,y)"
   ]
  }
 ],
 "metadata": {
  "kernelspec": {
   "display_name": "Python 3",
   "language": "python",
   "name": "python3"
  },
  "language_info": {
   "codemirror_mode": {
    "name": "ipython",
    "version": 3
   },
   "file_extension": ".py",
   "mimetype": "text/x-python",
   "name": "python",
   "nbconvert_exporter": "python",
   "pygments_lexer": "ipython3",
   "version": "3.8.3"
  }
 },
 "nbformat": 4,
 "nbformat_minor": 4
}
