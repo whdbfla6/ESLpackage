{
 "cells": [
  {
   "cell_type": "code",
   "execution_count": 2,
   "metadata": {},
   "outputs": [],
   "source": [
    "import numpy as np\n",
    "import pandas as pd\n",
    "from numpy import transpose as t\n",
    "from numpy import matmul\n",
    "from numpy.linalg import inv\n",
    "from numpy import linalg as LA\n",
    "import matplotlib.pyplot as plt\n",
    "import seaborn as sns\n",
    "import random \n",
    "#from sklearn.discriminant_analysis import LinearDiscriminantAnalysis"
   ]
  },
  {
   "cell_type": "code",
   "execution_count": 2,
   "metadata": {},
   "outputs": [],
   "source": [
    "class LinearDiscriminantAanlysis:\n",
    "    def fit(self,x,y):\n",
    "        self.unique,self.class_num= np.unique(y,return_counts=True)\n",
    "        self.prior = []\n",
    "        self.mu = []\n",
    "        self.Sigma = 0\n",
    "        for val in self.unique:\n",
    "            self.prior.append(self.class_num[val]/len(y))\n",
    "            ind = np.where(y==val)\n",
    "            X = x[ind]\n",
    "            self.mu.append(np.sum(X,axis=0)/len(X))\n",
    "            self.Sigma += matmul(t(X-self.mu[val]),X-self.mu[val])\n",
    "        self.Simga = np.array(self.Sigma)\n",
    "        self.Sigma = self.Sigma/(len(x)-len(self.unique))\n",
    "    def discriminant_function(self,x,prior,mu,Sigma):\n",
    "        return matmul(x,matmul(inv(Sigma),t(mu)))-0.5*matmul(mu,matmul(inv(Sigma),t(mu)))+np.log(prior)\n",
    "    def predict(self,x):\n",
    "        c = []\n",
    "        for i in x:\n",
    "            result=[]\n",
    "            for j in range(len(self.unique)):\n",
    "                prior = self.prior[j]\n",
    "                mu = self.mu[j]\n",
    "                Sigma = self.Sigma\n",
    "                result.append(self.discriminant_function(i,prior,mu,Sigma))\n",
    "            c.append(result.index(max(result))) \n",
    "        return c\n",
    "    def transformation(self,x):\n",
    "        self.wc = self.Sigma*(len(x)-len(self.unique))\n",
    "        total_mu = np.sum(x,axis=0)/len(x)\n",
    "        self.bc = 0\n",
    "        for i in range(len(self.unique)):\n",
    "            n = self.class_num[i]\n",
    "            self.bc += n*(np.outer((self.mu[i]-total_mu),(self.mu[i]-total_mu)))\n",
    "        return self.wc, self.bc\n",
    "    def fisherLDA(self,x,y,i):\n",
    "        value,vector = LA.eig(matmul(inv(self.wc),self.bc))\n",
    "        temp = pd.DataFrame(X)\n",
    "        temp1 = pd.DataFrame(y)\n",
    "        t = pd.concat([temp,temp1],axis=1)\n",
    "        t.columns = ['x1','x2','y']\n",
    "        plt.scatter(t['x1'],t['x2'],c=t['y'])\n",
    "        x1 = np.linspace(min(X[:,0]),max(X[:,0]))\n",
    "        for n,vec in enumerate(vector):\n",
    "            if vector[n][0] ==0:\n",
    "                plt.axvline(x=vector[0][0],label=\"eig\"+str(n),c=np.random.rand(3,))\n",
    "                plt.legend()\n",
    "            else:\n",
    "                inc = vector[n][1]/vector[n][0]\n",
    "                plt.plot(x1,inc*(x1-vector[n][0])+vector[n][1],label=\"eig\"+str(n),c=np.random.rand(3,))\n",
    "                plt.legend()\n",
    "        vec1 = np.array(vector[i]) #projection\n",
    "        proj = matmul(np.outer(vec1,vec1),np.transpose(x))/(vec1.dot(vec1))\n",
    "        plt.scatter(proj[0],proj[1])\n",
    "        return proj\n",
    "#[1,1] [vec[n][0],vec[n][1]] "
   ]
  },
  {
   "cell_type": "code",
   "execution_count": 3,
   "metadata": {},
   "outputs": [],
   "source": [
    "X = np.array([[-1, -1], [-2, -1], [-3, -2], [1, 1], [2, 1], [3, 2]])\n",
    "y = np.array([0,0,0,1,1,1])"
   ]
  },
  {
   "cell_type": "code",
   "execution_count": 4,
   "metadata": {},
   "outputs": [],
   "source": [
    "lda = LinearDiscriminantAanlysis()"
   ]
  },
  {
   "cell_type": "code",
   "execution_count": 5,
   "metadata": {},
   "outputs": [],
   "source": [
    "lda.fit(X,y)"
   ]
  },
  {
   "cell_type": "code",
   "execution_count": 6,
   "metadata": {},
   "outputs": [
    {
     "data": {
      "text/plain": [
       "(array([[4.        , 2.        ],\n",
       "        [2.        , 1.33333333]]),\n",
       " array([[24.        , 16.        ],\n",
       "        [16.        , 10.66666667]]))"
      ]
     },
     "execution_count": 6,
     "metadata": {},
     "output_type": "execute_result"
    }
   ],
   "source": [
    "lda.transformation(X)"
   ]
  },
  {
   "cell_type": "code",
   "execution_count": 7,
   "metadata": {},
   "outputs": [
    {
     "data": {
      "text/plain": [
       "array([[ 0.,  0.,  0.,  0.,  0.,  0.],\n",
       "       [-1., -1., -2.,  1.,  1.,  2.]])"
      ]
     },
     "execution_count": 7,
     "metadata": {},
     "output_type": "execute_result"
    },
    {
     "data": {
      "image/png": "[encoded data removed]",
      "text/plain": [
       "<Figure size 432x288 with 1 Axes>"
      ]
     },
     "metadata": {
      "needs_background": "light"
     },
     "output_type": "display_data"
    }
   ],
   "source": [
    "lda.fisherLDA(X,y,0)"
   ]
  },
  {
   "cell_type": "code",
   "execution_count": 8,
   "metadata": {},
   "outputs": [
    {
     "data": {
      "text/plain": [
       "array([[-0.09924301, -0.6901521 , -0.78939511,  0.09924301,  0.6901521 ,\n",
       "         0.78939511],\n",
       "       [ 0.08257517,  0.57424126,  0.65681643, -0.08257517, -0.57424126,\n",
       "        -0.65681643]])"
      ]
     },
     "execution_count": 8,
     "metadata": {},
     "output_type": "execute_result"
    },
    {
     "data": {
      "image/png": "[encoded data removed]",
      "text/plain": [
       "<Figure size 432x288 with 1 Axes>"
      ]
     },
     "metadata": {
      "needs_background": "light"
     },
     "output_type": "display_data"
    }
   ],
   "source": [
    "lda.fisherLDA(X,y,1)"
   ]
  },
  {
   "cell_type": "code",
   "execution_count": 9,
   "metadata": {},
   "outputs": [],
   "source": [
    "data = pd.read_csv(\"iris.csv\")"
   ]
  },
  {
   "cell_type": "code",
   "execution_count": 10,
   "metadata": {},
   "outputs": [
    {
     "data": {
      "text/plain": [
       "array(['setosa', 'versicolor', 'virginica'], dtype=object)"
      ]
     },
     "execution_count": 10,
     "metadata": {},
     "output_type": "execute_result"
    }
   ],
   "source": [
    "np.unique(data['Species'])"
   ]
  },
  {
   "cell_type": "code",
   "execution_count": 11,
   "metadata": {},
   "outputs": [],
   "source": [
    "y = []\n",
    "for i in data['Species']:\n",
    "    if i == 'setosa':\n",
    "        y.append(0)\n",
    "    elif i == 'versicolor':\n",
    "        y.append(1)\n",
    "    else: y.append(2)"
   ]
  },
  {
   "cell_type": "code",
   "execution_count": 12,
   "metadata": {},
   "outputs": [],
   "source": [
    "X = data.iloc[:,1:5]"
   ]
  },
  {
   "cell_type": "code",
   "execution_count": 13,
   "metadata": {},
   "outputs": [],
   "source": [
    "from sklearn.model_selection import train_test_split\n",
    "\n",
    "X_train, X_test, y_train, y_test = train_test_split(X, y, test_size=0.2, random_state=0)\n",
    "X_train = np.array(X_train)\n",
    "X_test = np.array(X_test)"
   ]
  },
  {
   "cell_type": "code",
   "execution_count": 14,
   "metadata": {},
   "outputs": [],
   "source": [
    "from sklearn.preprocessing import StandardScaler\n",
    "\n",
    "sc = StandardScaler()\n",
    "X_train = sc.fit_transform(X_train)\n",
    "X_test = sc.transform(X_test)"
   ]
  },
  {
   "cell_type": "code",
   "execution_count": 15,
   "metadata": {},
   "outputs": [],
   "source": [
    "lda = LinearDiscriminantAanlysis()"
   ]
  },
  {
   "cell_type": "code",
   "execution_count": 16,
   "metadata": {},
   "outputs": [],
   "source": [
    "lda.fit(X_train,y_train)"
   ]
  },
  {
   "cell_type": "code",
   "execution_count": 17,
   "metadata": {},
   "outputs": [
    {
     "name": "stdout",
     "output_type": "stream",
     "text": [
      "2 1 0 2 0 2 0 1 1 1 2 1 1 1 1 0 1 1 0 0 2 1 0 0 2 0 0 1 1 0 "
     ]
    }
   ],
   "source": [
    "y_pred = lda.predict(X_test)\n",
    "for i in y_pred:\n",
    "    print(i,end=' ')"
   ]
  },
  {
   "cell_type": "code",
   "execution_count": 18,
   "metadata": {},
   "outputs": [
    {
     "name": "stdout",
     "output_type": "stream",
     "text": [
      "2 1 0 2 0 2 0 1 1 1 2 1 1 1 1 0 1 1 0 0 2 1 0 0 2 0 0 1 1 0 "
     ]
    }
   ],
   "source": [
    "for i in y_test:\n",
    "    print(i,end=' ')"
   ]
  },
  {
   "cell_type": "code",
   "execution_count": 18,
   "metadata": {},
   "outputs": [],
   "source": [
    "a = np.array([[1,1],[1,2]])\n",
    "proj = a@inv(t(a)@a)@t(a)\n",
    "cov = a@t(a)\n",
    "value,v = LA.eig(proj)\n",
    "value1,v1 = LA.eig(cov)"
   ]
  }
 ],
 "metadata": {
  "kernelspec": {
   "display_name": "Python 3",
   "language": "python",
   "name": "python3"
  },
  "language_info": {
   "codemirror_mode": {
    "name": "ipython",
    "version": 3
   },
   "file_extension": ".py",
   "mimetype": "text/x-python",
   "name": "python",
   "nbconvert_exporter": "python",
   "pygments_lexer": "ipython3",
   "version": "3.8.3"
  }
 },
 "nbformat": 4,
 "nbformat_minor": 4
}
