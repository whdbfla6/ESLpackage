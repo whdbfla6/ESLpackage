{
 "cells": [
  {
   "cell_type": "code",
   "execution_count": 1,
   "metadata": {},
   "outputs": [],
   "source": [
    "import pandas as pd\n",
    "import numpy as np\n",
    "import matplotlib.pyplot as plt"
   ]
  },
  {
   "cell_type": "code",
   "execution_count": 2,
   "metadata": {},
   "outputs": [],
   "source": [
    "data = pd.read_csv(\"height-weight.csv\")"
   ]
  },
  {
   "cell_type": "code",
   "execution_count": 3,
   "metadata": {},
   "outputs": [
    {
     "data": {
      "text/html": [
       "<div>\n",
       "<style scoped>\n",
       "    .dataframe tbody tr th:only-of-type {\n",
       "        vertical-align: middle;\n",
       "    }\n",
       "\n",
       "    .dataframe tbody tr th {\n",
       "        vertical-align: top;\n",
       "    }\n",
       "\n",
       "    .dataframe thead th {\n",
       "        text-align: right;\n",
       "    }\n",
       "</style>\n",
       "<table border=\"1\" class=\"dataframe\">\n",
       "  <thead>\n",
       "    <tr style=\"text-align: right;\">\n",
       "      <th></th>\n",
       "      <th>Height</th>\n",
       "      <th>Weight</th>\n",
       "    </tr>\n",
       "  </thead>\n",
       "  <tbody>\n",
       "    <tr>\n",
       "      <th>0</th>\n",
       "      <td>1.47</td>\n",
       "      <td>52.21</td>\n",
       "    </tr>\n",
       "    <tr>\n",
       "      <th>1</th>\n",
       "      <td>1.50</td>\n",
       "      <td>53.12</td>\n",
       "    </tr>\n",
       "    <tr>\n",
       "      <th>2</th>\n",
       "      <td>1.52</td>\n",
       "      <td>54.48</td>\n",
       "    </tr>\n",
       "    <tr>\n",
       "      <th>3</th>\n",
       "      <td>1.55</td>\n",
       "      <td>55.84</td>\n",
       "    </tr>\n",
       "    <tr>\n",
       "      <th>4</th>\n",
       "      <td>1.57</td>\n",
       "      <td>57.20</td>\n",
       "    </tr>\n",
       "  </tbody>\n",
       "</table>\n",
       "</div>"
      ],
      "text/plain": [
       "   Height  Weight\n",
       "0    1.47   52.21\n",
       "1    1.50   53.12\n",
       "2    1.52   54.48\n",
       "3    1.55   55.84\n",
       "4    1.57   57.20"
      ]
     },
     "execution_count": 3,
     "metadata": {},
     "output_type": "execute_result"
    }
   ],
   "source": [
    "data.head()"
   ]
  },
  {
   "cell_type": "code",
   "execution_count": 4,
   "metadata": {},
   "outputs": [],
   "source": [
    "x = data['Weight']\n",
    "y = data['Height']*100"
   ]
  },
  {
   "cell_type": "code",
   "execution_count": 5,
   "metadata": {},
   "outputs": [],
   "source": [
    "def relu(x,e):\n",
    "    if type(x) == int:\n",
    "        if x>e: return x\n",
    "        else: return 0\n",
    "    return np.array([i if i>e else 0 for i in x])\n",
    "\n",
    "def diff(x,y,coef,knot,k):\n",
    "    dif = np.array(coef[0] + coef[1]*x)\n",
    "    for i in range(knot):\n",
    "        dif += coef[i+2]*relu(x,k[i])\n",
    "    dif -= y\n",
    "    return dif\n",
    "\n",
    "def cost_function(x,y,coef,knot,k):\n",
    "    n = len(x)\n",
    "    return 1/(2*n)*sum(diff(x,y,coef,knot,k)**2)\n",
    "\n",
    "def plot_line(x,knot,coef,k):\n",
    "    l = coef[0] + coef[1]*x\n",
    "    for i in range(knot):\n",
    "        l += coef[i+2]*relu(x,k[i])\n",
    "    return l"
   ]
  },
  {
   "cell_type": "code",
   "execution_count": 6,
   "metadata": {},
   "outputs": [],
   "source": [
    "class ContinousPiecewiseLinear:\n",
    "    \n",
    "    def fit(self,x,y,knot=2):\n",
    "        self.k = [x.min()+(x.max()-x.min())/(knot+1)*i for i in range(1,knot+1)]\n",
    "        n = len(x)\n",
    "        self.coef = [0]*(knot+2)\n",
    "        cost = cost_function(x,y,self.coef,knot,self.k)\n",
    "        max_iter = 0\n",
    "        error=10000\n",
    "        print('------error------')\n",
    "        while error>0.1 and max_iter < 1000:\n",
    "            coef_i = self.coef[:]\n",
    "            coef_i[0] = coef_i[0] - 0.0001*sum(diff(x,y,self.coef,knot,self.k))/n\n",
    "            coef_i[1] = coef_i[1] - 0.0001*sum(diff(x,y,self.coef,knot,self.k)*x)/n\n",
    "            for i in range(knot):\n",
    "                coef_i[i+2] = coef_i[i+2] - 0.0001*sum(diff(x,y,self.coef,knot,self.k)*relu(x,self.k[i]))/n\n",
    "            self.coef = coef_i[:]\n",
    "            error = cost_function(x,y,self.coef,knot,self.k)\n",
    "            max_iter += 1\n",
    "            if max_iter%100 == 0 :\n",
    "                print(error)\n",
    "        return self.coef\n",
    "    \n",
    "    def draw_plot(self,x,y,knot):\n",
    "        x1 = np.linspace(min(x),max(x))\n",
    "        plt.plot(x1,plot_line(x1,knot,self.coef,self.k))\n",
    "        plt.scatter(x,y)\n",
    "        for i in self.k:\n",
    "            plt.axvline(i,color='gray', linestyle='--', linewidth='1')"
   ]
  },
  {
   "cell_type": "code",
   "execution_count": 7,
   "metadata": {},
   "outputs": [],
   "source": [
    "PL = ContinousPiecewiseLinear()"
   ]
  },
  {
   "cell_type": "code",
   "execution_count": 8,
   "metadata": {},
   "outputs": [
    {
     "name": "stdout",
     "output_type": "stream",
     "text": [
      "------error------\n",
      "1.6031238000492143\n",
      "0.6074855368998637\n",
      "0.5774817605576844\n",
      "0.5763323577618744\n",
      "0.5762825600007407\n",
      "0.5762770189321321\n",
      "0.5762733100017856\n",
      "0.5762696781554388\n",
      "0.5762660496048732\n",
      "0.5762624212199712\n"
     ]
    },
    {
     "data": {
      "text/plain": [
       "[0.0541110659387155,\n",
       " 2.7993761197331795,\n",
       " -0.06219977903289662,\n",
       " -0.04773110532128946,\n",
       " -0.06713087254676843,\n",
       " -0.06565606387589883,\n",
       " -0.08239118301712405]"
      ]
     },
     "execution_count": 8,
     "metadata": {},
     "output_type": "execute_result"
    }
   ],
   "source": [
    "PL.fit(x,y,5)"
   ]
  },
  {
   "cell_type": "code",
   "execution_count": 9,
   "metadata": {},
   "outputs": [
    {
     "data": {
      "image/png": "[encoded data removed]",
      "text/plain": [
       "<Figure size 432x288 with 1 Axes>"
      ]
     },
     "metadata": {
      "needs_background": "light"
     },
     "output_type": "display_data"
    }
   ],
   "source": [
    "PL.draw_plot(x,y,5)"
   ]
  }
 ],
 "metadata": {
  "kernelspec": {
   "display_name": "Python 3",
   "language": "python",
   "name": "python3"
  },
  "language_info": {
   "codemirror_mode": {
    "name": "ipython",
    "version": 3
   },
   "file_extension": ".py",
   "mimetype": "text/x-python",
   "name": "python",
   "nbconvert_exporter": "python",
   "pygments_lexer": "ipython3",
   "version": "3.8.3"
  }
 },
 "nbformat": 4,
 "nbformat_minor": 4
}
