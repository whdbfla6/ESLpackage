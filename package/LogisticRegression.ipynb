{
 "cells": [
  {
   "cell_type": "code",
   "execution_count": 1,
   "metadata": {},
   "outputs": [],
   "source": [
    "from sklearn.datasets import load_iris\n",
    "from sklearn.datasets import load_breast_cancer\n",
    "from numpy.linalg import pinv,inv\n",
    "from scipy.linalg import solve\n",
    "import numpy as np\n",
    "import pandas as pd\n",
    "X, y = load_breast_cancer(return_X_y=True)\n",
    "from numpy import transpose as t\n",
    "from sklearn.metrics import zero_one_loss"
   ]
  },
  {
   "cell_type": "code",
   "execution_count": 2,
   "metadata": {},
   "outputs": [],
   "source": [
    "class LogisticRegression:\n",
    "    def fit(self,x,y):\n",
    "        n,p = x.shape\n",
    "        beta = np.array([0]*p)\n",
    "        max_iter = 0\n",
    "        error=10000\n",
    "        while error>0.1 and max_iter < 100:\n",
    "            prob = np.exp(x.dot(beta))/(1+np.exp(x.dot(beta)))\n",
    "            W = np.diag((1-np.array(prob))*np.array(prob))\n",
    "            beta = beta+pinv(np.matmul(np.matmul(t(x),W),x)).dot(t(x)).dot(y-prob)\n",
    "            max_iter += 1\n",
    "            error = np.max(np.abs(y-prob))\n",
    "        self.nbeta = beta\n",
    "        print(max_iter)\n",
    "    def pred(self,x):\n",
    "        pred = []\n",
    "        for i in x:\n",
    "            prob = np.exp(i.dot(self.nbeta))/(1+np.exp(i.dot(self.nbeta)))\n",
    "            if prob>0.5:\n",
    "                pred.append(1)\n",
    "            else:\n",
    "                pred.append(0)\n",
    "        return pred"
   ]
  },
  {
   "cell_type": "markdown",
   "metadata": {},
   "source": [
    "example"
   ]
  },
  {
   "cell_type": "code",
   "execution_count": 3,
   "metadata": {},
   "outputs": [],
   "source": [
    "import pandas as pd\n",
    "X, y = load_breast_cancer(return_X_y=True)\n",
    "\n",
    "from sklearn.model_selection import train_test_split\n",
    "\n",
    "X_train, X_test, y_train, y_test = train_test_split(X, y, test_size=0.3, random_state=0)\n",
    "X_train = np.array(X_train)\n",
    "X_test = np.array(X_test)"
   ]
  },
  {
   "cell_type": "code",
   "execution_count": 4,
   "metadata": {},
   "outputs": [
    {
     "name": "stdout",
     "output_type": "stream",
     "text": [
      "11\n"
     ]
    }
   ],
   "source": [
    "lg = LogisticRegression()\n",
    "lg.fit(X_train,y_train)"
   ]
  },
  {
   "cell_type": "code",
   "execution_count": 5,
   "metadata": {
    "scrolled": false
   },
   "outputs": [],
   "source": [
    "pred = lg.pred(X_test)"
   ]
  },
  {
   "cell_type": "code",
   "execution_count": 6,
   "metadata": {},
   "outputs": [
    {
     "data": {
      "text/plain": [
       "0.05847953216374269"
      ]
     },
     "execution_count": 6,
     "metadata": {},
     "output_type": "execute_result"
    }
   ],
   "source": [
    "zero_one_loss(pred, y_test)"
   ]
  },
  {
   "cell_type": "markdown",
   "metadata": {},
   "source": [
    "실제 패키지 비교"
   ]
  },
  {
   "cell_type": "code",
   "execution_count": 7,
   "metadata": {},
   "outputs": [
    {
     "data": {
      "text/plain": [
       "0.040935672514619936"
      ]
     },
     "execution_count": 7,
     "metadata": {},
     "output_type": "execute_result"
    }
   ],
   "source": [
    "from sklearn.linear_model import LogisticRegression\n",
    "lg2 = LogisticRegression(max_iter=10000)\n",
    "lg2.fit(X_train, y_train)\n",
    "pred = lg2.predict(X_test)\n",
    "zero_one_loss(pred,y_test)"
   ]
  }
 ],
 "metadata": {
  "kernelspec": {
   "display_name": "Python 3",
   "language": "python",
   "name": "python3"
  },
  "language_info": {
   "codemirror_mode": {
    "name": "ipython",
    "version": 3
   },
   "file_extension": ".py",
   "mimetype": "text/x-python",
   "name": "python",
   "nbconvert_exporter": "python",
   "pygments_lexer": "ipython3",
   "version": "3.8.3"
  }
 },
 "nbformat": 4,
 "nbformat_minor": 4
}
