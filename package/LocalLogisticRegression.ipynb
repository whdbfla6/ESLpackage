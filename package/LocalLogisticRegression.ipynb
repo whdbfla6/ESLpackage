{
 "cells": [
  {
   "cell_type": "code",
   "execution_count": 1,
   "metadata": {},
   "outputs": [],
   "source": [
    "import numpy as np\n",
    "import pandas as pd\n",
    "from sklearn.datasets import load_breast_cancer\n",
    "from numpy import transpose as t\n",
    "from numpy.linalg import inv"
   ]
  },
  {
   "cell_type": "code",
   "execution_count": 2,
   "metadata": {},
   "outputs": [],
   "source": [
    "class LocalLogisticRegression:\n",
    "    \n",
    "    def __init__(self,sigma=1):\n",
    "        self.sigma = sigma\n",
    "    \n",
    "    def gaussian_kernel(self,sigma,x_0,x):\n",
    "        f = 1/np.sqrt(2*np.pi*self.sigma**2)*np.exp(-1/(2*self.sigma**2)*(x-x_0)**2) #mu x_0 sigma=1\n",
    "        return f\n",
    "    \n",
    "    def prob(self,x,beta):\n",
    "        p = np.exp(x@beta)/(1+np.exp(x@beta))\n",
    "        return p\n",
    "        \n",
    "    def predict(self,x,y,newx):\n",
    "        x = np.array(x); y = np.array(y)\n",
    "        n = x.shape[0]\n",
    "        x = t(np.append([1]*n,np.array(x)).reshape(2,-1)) \n",
    "        pred = []\n",
    "        beta = np.array([0]*2)\n",
    "        for x0 in newx: \n",
    "            beta = np.array([0]*2)\n",
    "            error = 10000\n",
    "            while error>0.001:\n",
    "                l1 = sum([LocalLogisticRegression.gaussian_kernel(self,1,x0,x[i][1])*x[i]*(y[i]-LocalLogisticRegression.prob(self,x[i],beta)) for i in range(n)])\n",
    "                l2 = sum([-LocalLogisticRegression.gaussian_kernel(self,1,x0,x[i][1])*np.outer(x[i],x[i])*LocalLogisticRegression.prob(self,x[i],beta)*(1-LocalLogisticRegression.prob(self,x[i],beta)) for i in range(n)])\n",
    "                beta_old = beta\n",
    "                beta =  beta - inv(l2)@l1\n",
    "                error = max(abs(beta-beta_old))\n",
    "            prob = LocalLogisticRegression.prob(self,[1,x0],beta)\n",
    "            pred.append((prob>0.5).astype('int'))\n",
    "        return pred"
   ]
  },
  {
   "cell_type": "code",
   "execution_count": 3,
   "metadata": {},
   "outputs": [],
   "source": [
    "from sklearn import datasets\n",
    "from sklearn.model_selection import train_test_split\n",
    "X, y = load_breast_cancer(return_X_y=True)\n",
    "X_train, X_test, y_train, y_test = train_test_split(X[:,0], y, test_size=0.3, random_state=0)"
   ]
  },
  {
   "cell_type": "code",
   "execution_count": 4,
   "metadata": {},
   "outputs": [],
   "source": [
    "lg = LocalLogisticRegression()"
   ]
  },
  {
   "cell_type": "code",
   "execution_count": 5,
   "metadata": {},
   "outputs": [],
   "source": [
    "pred = lg.predict(X_train,y_train,X_test)"
   ]
  },
  {
   "cell_type": "code",
   "execution_count": 6,
   "metadata": {},
   "outputs": [
    {
     "data": {
      "text/plain": [
       "0.09941520467836262"
      ]
     },
     "execution_count": 6,
     "metadata": {},
     "output_type": "execute_result"
    }
   ],
   "source": [
    "from sklearn.metrics import zero_one_loss\n",
    "zero_one_loss(pred, y_test)"
   ]
  }
 ],
 "metadata": {
  "kernelspec": {
   "display_name": "Python 3",
   "language": "python",
   "name": "python3"
  },
  "language_info": {
   "codemirror_mode": {
    "name": "ipython",
    "version": 3
   },
   "file_extension": ".py",
   "mimetype": "text/x-python",
   "name": "python",
   "nbconvert_exporter": "python",
   "pygments_lexer": "ipython3",
   "version": "3.8.3"
  }
 },
 "nbformat": 4,
 "nbformat_minor": 4
}
