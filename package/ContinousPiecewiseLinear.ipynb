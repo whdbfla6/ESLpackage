{
 "cells": [
  {
   "cell_type": "code",
   "execution_count": 1,
   "metadata": {},
   "outputs": [],
   "source": [
    "import pandas as pd\n",
    "import numpy as np\n",
    "import matplotlib.pyplot as plt\n",
    "import math "
   ]
  },
  {
   "cell_type": "code",
   "execution_count": 2,
   "metadata": {},
   "outputs": [],
   "source": [
    "def relu(x):\n",
    "    if type(x) == int:\n",
    "        if x>0:\n",
    "            return x\n",
    "        else:\n",
    "            return 0\n",
    "    return np.array([i if i>0 else 0 for i in x])\n",
    "\n",
    "def diff(x,y,coef,knot,k):\n",
    "    dif = np.array(coef[0] + coef[1]*x)\n",
    "    for i in range(knot):\n",
    "        dif += coef[i+2]*relu(x-k[i])\n",
    "    dif -= y\n",
    "    return dif\n",
    "\n",
    "def cost_function(x,y,coef,knot,k):\n",
    "    n = len(x)\n",
    "    return 1/(2*n)*sum(diff(x,y,coef,knot,k)**2)\n",
    "\n",
    "def plot_line(x,knot,coef,k):\n",
    "    l = coef[0] + coef[1]*x\n",
    "    for i in range(knot):\n",
    "        l += coef[i+2]*relu(x-k[i])\n",
    "    return l"
   ]
  },
  {
   "cell_type": "code",
   "execution_count": 3,
   "metadata": {},
   "outputs": [],
   "source": [
    "class ContinousPiecewiseLinear:\n",
    "    \n",
    "    def fit(self,x,y,knot=2):\n",
    "        self.k = [math.ceil(x.min()+(x.max()-x.min())/(knot+1)*i) for i in range(1,knot+1)]\n",
    "        print('------knot-------')\n",
    "        print(self.k)\n",
    "        n = len(x)\n",
    "        self.coef = [0]*(knot+2)\n",
    "        cost = cost_function(x,y,self.coef,knot,self.k)\n",
    "        max_iter = 0\n",
    "        error=10000\n",
    "        print('------error------')\n",
    "        while error>0.1 and max_iter < 1000:\n",
    "            coef_i = self.coef[:]\n",
    "            coef_i[0] = coef_i[0] - 0.0001*sum(diff(x,y,self.coef,knot,self.k))/n\n",
    "            coef_i[1] = coef_i[1] - 0.0001*sum(diff(x,y,self.coef,knot,self.k)*x)/n\n",
    "            for i in range(knot):\n",
    "                coef_i[i+2] = coef_i[i+2] - 0.0001*sum(diff(x,y,self.coef,knot,self.k)*relu(x-self.k[i]))/n\n",
    "            self.coef = coef_i[:]\n",
    "            error = cost_function(x,y,self.coef,knot,self.k)\n",
    "            max_iter += 1\n",
    "            if max_iter%100 == 0 :\n",
    "                print(error)\n",
    "        return self.coef\n",
    "    \n",
    "    def draw_plot(self,x,y,knot):\n",
    "        x1 = np.linspace(min(x),max(x))\n",
    "        x1 = np.append(x1,self.k)\n",
    "        x1 = np.sort(x1)\n",
    "        plt.plot(x1,plot_line(x1,knot,self.coef,self.k))\n",
    "        plt.scatter(x,y)\n",
    "        for i in self.k:\n",
    "            plt.axvline(i,color='gray', linestyle='--', linewidth='1')"
   ]
  },
  {
   "cell_type": "markdown",
   "metadata": {},
   "source": [
    "example"
   ]
  },
  {
   "cell_type": "code",
   "execution_count": 4,
   "metadata": {},
   "outputs": [],
   "source": [
    "data = pd.read_csv(\"data/height-weight.csv\")\n",
    "data.head()\n",
    "x = data['Weight']\n",
    "y = data['Height']*100"
   ]
  },
  {
   "cell_type": "code",
   "execution_count": 5,
   "metadata": {},
   "outputs": [],
   "source": [
    "PL = ContinousPiecewiseLinear()"
   ]
  },
  {
   "cell_type": "code",
   "execution_count": 6,
   "metadata": {},
   "outputs": [
    {
     "name": "stdout",
     "output_type": "stream",
     "text": [
      "------knot-------\n",
      "[60, 68]\n",
      "------error------\n",
      "21.376764536828883\n",
      "14.378149315738574\n",
      "9.85013046947358\n",
      "6.919995371737131\n",
      "5.023318331091769\n",
      "3.795057620255798\n",
      "2.9991226990537383\n",
      "2.482821957597038\n",
      "2.147401885793895\n",
      "1.92899334041578\n"
     ]
    },
    {
     "data": {
      "text/plain": [
       "[0.08286173469074304,\n",
       " 2.739430806021895,\n",
       " -1.2322604098559244,\n",
       " -0.3861444162146436]"
      ]
     },
     "execution_count": 6,
     "metadata": {},
     "output_type": "execute_result"
    }
   ],
   "source": [
    "PL.fit(x,y,2)"
   ]
  },
  {
   "cell_type": "code",
   "execution_count": 7,
   "metadata": {},
   "outputs": [
    {
     "data": {
      "image/png": "[encoded data removed]",
      "text/plain": [
       "<Figure size 432x288 with 1 Axes>"
      ]
     },
     "metadata": {
      "needs_background": "light"
     },
     "output_type": "display_data"
    }
   ],
   "source": [
    "PL.draw_plot(x,y,2)"
   ]
  }
 ],
 "metadata": {
  "kernelspec": {
   "display_name": "Python 3",
   "language": "python",
   "name": "python3"
  },
  "language_info": {
   "codemirror_mode": {
    "name": "ipython",
    "version": 3
   },
   "file_extension": ".py",
   "mimetype": "text/x-python",
   "name": "python",
   "nbconvert_exporter": "python",
   "pygments_lexer": "ipython3",
   "version": "3.8.3"
  }
 },
 "nbformat": 4,
 "nbformat_minor": 4
}
