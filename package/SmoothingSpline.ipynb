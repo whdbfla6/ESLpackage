{
 "cells": [
  {
   "cell_type": "code",
   "execution_count": 1,
   "metadata": {},
   "outputs": [],
   "source": [
    "import pandas as pd\n",
    "import numpy as np\n",
    "from numpy import transpose as t\n",
    "from numpy.linalg import inv\n",
    "import math\n",
    "import matplotlib.pyplot as plt\n",
    "from sklearn.metrics import mean_squared_error\n",
    "from numpy.random import randn"
   ]
  },
  {
   "cell_type": "code",
   "execution_count": 2,
   "metadata": {},
   "outputs": [],
   "source": [
    "class SmoothingSpline:\n",
    "    \n",
    "    def relu(self,x):\n",
    "        if type(x) == int:\n",
    "            if x>0:\n",
    "                return x\n",
    "            else:\n",
    "                return 0\n",
    "        else: return np.array([i if i>0 else 0 for i in x])\n",
    "    \n",
    "    def N(self,X,k,K):\n",
    "        d_k = (SmoothingSpline.relu(self,(X-self.knot_list[k-1])**3)-SmoothingSpline.relu(self,(X-self.knot_list[K-1])**3))/(self.knot_list[K-1]-self.knot_list[k-1])\n",
    "        d_K = (SmoothingSpline.relu(self,(X-self.knot_list[K-2])**3)-SmoothingSpline.relu(self,(X-self.knot_list[K-1])**3))/(self.knot_list[K-1]-self.knot_list[K-2])\n",
    "        return d_k - d_K\n",
    "    \n",
    "    def fit(self,x):\n",
    "        self.n = x.shape[0]\n",
    "        self.nknot = x.nunique() #unique한 x값에서 knot가 위치함 \n",
    "        self.knot_list = x.unique()\n",
    "        design_M = [np.ones(self.n)]\n",
    "        design_M.append(np.array(x))\n",
    "        for k in range(1,self.nknot-1):\n",
    "            design_M.append(SmoothingSpline.N(self,x,k,self.nknot))\n",
    "        self.basis = design_M\n",
    "        self.design_M =  t(design_M)\n",
    "        print(self.nknot)\n",
    "    \n",
    "    def predict(self,x,y):\n",
    "        self.prediction = self.design_M@inv(t(self.design_M)@self.design_M)@t(self.design_M)@y\n",
    "        self.coef = inv(t(self.design_M)@self.design_M)@t(self.design_M)@y\n",
    "        return self.coef\n",
    "    \n",
    "    def get_function(self,x):\n",
    "        f = self.coef[0] + self.coef[1]*x\n",
    "        for k in range(1,self.nknot-1):\n",
    "            f += self.coef[k+1]*SmoothingSpline.N(self,x,k,self.nknot)\n",
    "        return f\n",
    "    \n",
    "    def draw_plot(self,x,y):\n",
    "        x1 = np.linspace(min(x),max(x))\n",
    "        plt.scatter(x,y)\n",
    "        plt.plot(x1,SmoothingSpline.get_function(self,x1))\n",
    "        for i in self.knot_list:\n",
    "            plt.axvline(i,color='gray', linestyle='--', linewidth='1')"
   ]
  },
  {
   "cell_type": "markdown",
   "metadata": {},
   "source": [
    "Example"
   ]
  },
  {
   "cell_type": "code",
   "execution_count": 3,
   "metadata": {},
   "outputs": [],
   "source": [
    "data = pd.read_csv(\"data/height-weight.csv\")\n",
    "data.head()\n",
    "x = data['Weight']\n",
    "y = data['Height']"
   ]
  },
  {
   "cell_type": "code",
   "execution_count": 4,
   "metadata": {},
   "outputs": [],
   "source": [
    "Nc = SmoothingSpline()"
   ]
  },
  {
   "cell_type": "code",
   "execution_count": 5,
   "metadata": {},
   "outputs": [
    {
     "name": "stdout",
     "output_type": "stream",
     "text": [
      "15\n"
     ]
    }
   ],
   "source": [
    "Nc.fit(x)"
   ]
  },
  {
   "cell_type": "code",
   "execution_count": 6,
   "metadata": {},
   "outputs": [],
   "source": [
    "pred = Nc.predict(x,y)"
   ]
  },
  {
   "cell_type": "code",
   "execution_count": 7,
   "metadata": {},
   "outputs": [
    {
     "data": {
      "text/plain": [
       "array([-0.48884795,  0.03751863, -0.12229557,  0.2470827 , -0.2087859 ,\n",
       "        0.14535071, -0.08578538,  0.00756032,  0.0402563 , -0.03335043,\n",
       "        0.02188995, -0.0230622 ,  0.02242113, -0.02019179,  0.01213522])"
      ]
     },
     "execution_count": 7,
     "metadata": {},
     "output_type": "execute_result"
    }
   ],
   "source": [
    "pred"
   ]
  },
  {
   "cell_type": "code",
   "execution_count": 8,
   "metadata": {},
   "outputs": [
    {
     "data": {
      "image/png": "[encoded data removed]",
      "text/plain": [
       "<Figure size 432x288 with 1 Axes>"
      ]
     },
     "metadata": {
      "needs_background": "light"
     },
     "output_type": "display_data"
    }
   ],
   "source": [
    "Nc.draw_plot(x,y)"
   ]
  },
  {
   "cell_type": "markdown",
   "metadata": {},
   "source": [
    "Example 2"
   ]
  },
  {
   "cell_type": "code",
   "execution_count": 9,
   "metadata": {},
   "outputs": [],
   "source": [
    "df = pd.read_csv('data/toluca_company_dataset.csv')"
   ]
  },
  {
   "cell_type": "code",
   "execution_count": 10,
   "metadata": {},
   "outputs": [],
   "source": [
    "x=df['Lot_size']\n",
    "y=df['Work_hours']"
   ]
  },
  {
   "cell_type": "code",
   "execution_count": 11,
   "metadata": {},
   "outputs": [],
   "source": [
    "Nc = SmoothingSpline()"
   ]
  },
  {
   "cell_type": "code",
   "execution_count": 12,
   "metadata": {},
   "outputs": [
    {
     "name": "stdout",
     "output_type": "stream",
     "text": [
      "11\n"
     ]
    }
   ],
   "source": [
    "Nc.fit(x)"
   ]
  },
  {
   "cell_type": "code",
   "execution_count": 13,
   "metadata": {},
   "outputs": [
    {
     "data": {
      "text/plain": [
       "array([-115.70779018,   11.43538951,   -1.39188044,    5.04986968,\n",
       "          3.67103386,    1.15932389,    2.64471455,   -4.07877202,\n",
       "         -0.15320746,   -0.33802096,   -4.28121054])"
      ]
     },
     "execution_count": 13,
     "metadata": {},
     "output_type": "execute_result"
    }
   ],
   "source": [
    "pred = Nc.predict(x,y)\n",
    "pred"
   ]
  },
  {
   "cell_type": "code",
   "execution_count": 14,
   "metadata": {},
   "outputs": [
    {
     "data": {
      "image/png": "[encoded data removed]",
      "text/plain": [
       "<Figure size 432x288 with 1 Axes>"
      ]
     },
     "metadata": {
      "needs_background": "light"
     },
     "output_type": "display_data"
    }
   ],
   "source": [
    "Nc.draw_plot(x,y)"
   ]
  }
 ],
 "metadata": {
  "kernelspec": {
   "display_name": "Python 3",
   "language": "python",
   "name": "python3"
  },
  "language_info": {
   "codemirror_mode": {
    "name": "ipython",
    "version": 3
   },
   "file_extension": ".py",
   "mimetype": "text/x-python",
   "name": "python",
   "nbconvert_exporter": "python",
   "pygments_lexer": "ipython3",
   "version": "3.8.3"
  }
 },
 "nbformat": 4,
 "nbformat_minor": 4
}
